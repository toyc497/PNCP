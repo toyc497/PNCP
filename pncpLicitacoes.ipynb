{
  "nbformat": 4,
  "nbformat_minor": 0,
  "metadata": {
    "colab": {
      "provenance": [],
      "authorship_tag": "ABX9TyOaROLYOwItZ32z2uq3ZBPj",
      "include_colab_link": true
    },
    "kernelspec": {
      "name": "python3",
      "display_name": "Python 3"
    },
    "language_info": {
      "name": "python"
    }
  },
  "cells": [
    {
      "cell_type": "markdown",
      "metadata": {
        "id": "view-in-github",
        "colab_type": "text"
      },
      "source": [
        "<a href=\"https://colab.research.google.com/github/toyc497/PNCP_Webscraping/blob/main/pncpLicitacoes.ipynb\" target=\"_parent\"><img src=\"https://colab.research.google.com/assets/colab-badge.svg\" alt=\"Open In Colab\"/></a>"
      ]
    },
    {
      "cell_type": "code",
      "execution_count": 76,
      "metadata": {
        "id": "Ta9t_xTu5etI"
      },
      "outputs": [],
      "source": [
        "import requests\n",
        "from bs4 import BeautifulSoup\n",
        "import json"
      ]
    },
    {
      "cell_type": "code",
      "source": [
        "page=requests.get('https://pncp.gov.br/api/search/?tipos_documento=edital&ordenacao=-data&pagina=1&tam_pagina=20&status=recebendo_proposta')"
      ],
      "metadata": {
        "id": "7Qsu85gH5s1M"
      },
      "execution_count": 230,
      "outputs": []
    },
    {
      "cell_type": "code",
      "source": [
        "pageHTML = BeautifulSoup(page.text,'html.parser')"
      ],
      "metadata": {
        "id": "ZeD3ArJanTWY"
      },
      "execution_count": 231,
      "outputs": []
    },
    {
      "cell_type": "code",
      "source": [
        "vetor = str(pageHTML)\n",
        "novoDado = json.loads(vetor)"
      ],
      "metadata": {
        "id": "Oz4xiMTkoybI"
      },
      "execution_count": 232,
      "outputs": []
    },
    {
      "cell_type": "code",
      "source": [
        "listaId = []\n",
        "for i in novoDado[\"items\"]:\n",
        "  cnpj = i[\"orgao_cnpj\"]\n",
        "  sequencial = i[\"numero_sequencial\"]\n",
        "  ano = i[\"ano\"]\n",
        "  estruturaJson = {\"orgao_cnpj\":cnpj,\"numero_sequencial\":sequencial,\"ano\":ano}\n",
        "  listaId.append(estruturaJson)"
      ],
      "metadata": {
        "id": "XEBXt5QG1Klt"
      },
      "execution_count": 233,
      "outputs": []
    },
    {
      "cell_type": "code",
      "source": [
        "listaRequisicoesItem = []\n",
        "i=0\n",
        "while i<len(listaId):\n",
        "  requisicaoItem = 'https://pncp.gov.br/api/pncp/v1/orgaos/'+listaId[i][\"orgao_cnpj\"]+'/compras/'+listaId[i][\"ano\"]+'/'+listaId[i][\"numero_sequencial\"]+'/itens'\n",
        "  listaRequisicoesItem.append(requisicaoItem)\n",
        "  i+=1"
      ],
      "metadata": {
        "id": "L9_hiqsjMK8k"
      },
      "execution_count": 234,
      "outputs": []
    },
    {
      "cell_type": "code",
      "source": [
        "listaRequisicoesCompra = []\n",
        "j=0\n",
        "while j<len(listaId):\n",
        "  requisicaoCompra = 'https://pncp.gov.br/api/pncp/v1/orgaos/'+listaId[j][\"orgao_cnpj\"]+'/compras/'+listaId[j][\"ano\"]+'/'+listaId[j][\"numero_sequencial\"]\n",
        "  listaRequisicoesCompra.append(requisicaoCompra)\n",
        "  j+=1"
      ],
      "metadata": {
        "id": "ieU9h3e3Radr"
      },
      "execution_count": 235,
      "outputs": []
    },
    {
      "cell_type": "code",
      "source": [
        "requisicoesUnificadas = []\n",
        "k=0\n",
        "while k<len(listaId):\n",
        "  itemUnificado = {\"detalhesCompra\":listaRequisicoesCompra[k],\"detalhesItens\":listaRequisicoesItem[k]}\n",
        "  requisicoesUnificadas.append(itemUnificado)\n",
        "  k+=1"
      ],
      "metadata": {
        "id": "8qJ58W1LWJlK"
      },
      "execution_count": 236,
      "outputs": []
    },
    {
      "cell_type": "code",
      "source": [
        "print(requisicoesUnificadas)"
      ],
      "metadata": {
        "colab": {
          "base_uri": "https://localhost:8080/"
        },
        "id": "ZyOx3YjkXS5z",
        "outputId": "40f6c7c4-e754-4b11-fe2c-1b30fe4b5331"
      },
      "execution_count": 237,
      "outputs": [
        {
          "output_type": "stream",
          "name": "stdout",
          "text": [
            "[{'detalhesCompra': 'https://pncp.gov.br/api/pncp/v1/orgaos/46634168000150/compras/2023/43', 'detalhesItens': 'https://pncp.gov.br/api/pncp/v1/orgaos/46634168000150/compras/2023/43/itens'}, {'detalhesCompra': 'https://pncp.gov.br/api/pncp/v1/orgaos/00394460000141/compras/2023/144', 'detalhesItens': 'https://pncp.gov.br/api/pncp/v1/orgaos/00394460000141/compras/2023/144/itens'}, {'detalhesCompra': 'https://pncp.gov.br/api/pncp/v1/orgaos/23612685000122/compras/2023/2', 'detalhesItens': 'https://pncp.gov.br/api/pncp/v1/orgaos/23612685000122/compras/2023/2/itens'}, {'detalhesCompra': 'https://pncp.gov.br/api/pncp/v1/orgaos/00394452000103/compras/2023/755', 'detalhesItens': 'https://pncp.gov.br/api/pncp/v1/orgaos/00394452000103/compras/2023/755/itens'}, {'detalhesCompra': 'https://pncp.gov.br/api/pncp/v1/orgaos/01801612000146/compras/2023/309', 'detalhesItens': 'https://pncp.gov.br/api/pncp/v1/orgaos/01801612000146/compras/2023/309/itens'}, {'detalhesCompra': 'https://pncp.gov.br/api/pncp/v1/orgaos/04310454000110/compras/2023/8', 'detalhesItens': 'https://pncp.gov.br/api/pncp/v1/orgaos/04310454000110/compras/2023/8/itens'}, {'detalhesCompra': 'https://pncp.gov.br/api/pncp/v1/orgaos/88199971000153/compras/2023/3', 'detalhesItens': 'https://pncp.gov.br/api/pncp/v1/orgaos/88199971000153/compras/2023/3/itens'}, {'detalhesCompra': 'https://pncp.gov.br/api/pncp/v1/orgaos/88199971000153/compras/2023/2', 'detalhesItens': 'https://pncp.gov.br/api/pncp/v1/orgaos/88199971000153/compras/2023/2/itens'}, {'detalhesCompra': 'https://pncp.gov.br/api/pncp/v1/orgaos/49269236000117/compras/2023/52', 'detalhesItens': 'https://pncp.gov.br/api/pncp/v1/orgaos/49269236000117/compras/2023/52/itens'}, {'detalhesCompra': 'https://pncp.gov.br/api/pncp/v1/orgaos/33663683000116/compras/2023/43', 'detalhesItens': 'https://pncp.gov.br/api/pncp/v1/orgaos/33663683000116/compras/2023/43/itens'}, {'detalhesCompra': 'https://pncp.gov.br/api/pncp/v1/orgaos/00044834000107/compras/2023/17', 'detalhesItens': 'https://pncp.gov.br/api/pncp/v1/orgaos/00044834000107/compras/2023/17/itens'}, {'detalhesCompra': 'https://pncp.gov.br/api/pncp/v1/orgaos/00394502000144/compras/2023/498', 'detalhesItens': 'https://pncp.gov.br/api/pncp/v1/orgaos/00394502000144/compras/2023/498/itens'}, {'detalhesCompra': 'https://pncp.gov.br/api/pncp/v1/orgaos/00394460000141/compras/2023/143', 'detalhesItens': 'https://pncp.gov.br/api/pncp/v1/orgaos/00394460000141/compras/2023/143/itens'}, {'detalhesCompra': 'https://pncp.gov.br/api/pncp/v1/orgaos/00394494010441/compras/2023/37', 'detalhesItens': 'https://pncp.gov.br/api/pncp/v1/orgaos/00394494010441/compras/2023/37/itens'}, {'detalhesCompra': 'https://pncp.gov.br/api/pncp/v1/orgaos/03101148000100/compras/2023/10', 'detalhesItens': 'https://pncp.gov.br/api/pncp/v1/orgaos/03101148000100/compras/2023/10/itens'}, {'detalhesCompra': 'https://pncp.gov.br/api/pncp/v1/orgaos/46634317000180/compras/2023/10', 'detalhesItens': 'https://pncp.gov.br/api/pncp/v1/orgaos/46634317000180/compras/2023/10/itens'}, {'detalhesCompra': 'https://pncp.gov.br/api/pncp/v1/orgaos/07963051000168/compras/2023/17', 'detalhesItens': 'https://pncp.gov.br/api/pncp/v1/orgaos/07963051000168/compras/2023/17/itens'}, {'detalhesCompra': 'https://pncp.gov.br/api/pncp/v1/orgaos/33781055000135/compras/2023/61', 'detalhesItens': 'https://pncp.gov.br/api/pncp/v1/orgaos/33781055000135/compras/2023/61/itens'}, {'detalhesCompra': 'https://pncp.gov.br/api/pncp/v1/orgaos/46379400000150/compras/2023/283', 'detalhesItens': 'https://pncp.gov.br/api/pncp/v1/orgaos/46379400000150/compras/2023/283/itens'}, {'detalhesCompra': 'https://pncp.gov.br/api/pncp/v1/orgaos/00394452000103/compras/2023/751', 'detalhesItens': 'https://pncp.gov.br/api/pncp/v1/orgaos/00394452000103/compras/2023/751/itens'}]\n"
          ]
        }
      ]
    }
  ]
}